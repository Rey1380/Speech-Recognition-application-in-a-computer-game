{
  "cells": [
    {
      "cell_type": "markdown",
      "metadata": {
        "id": "view-in-github",
        "colab_type": "text"
      },
      "source": [
        "<a href=\"https://colab.research.google.com/github/Rey1380/Speech-Recognition-application-in-a-computer-game/blob/main/voice_command_MLP_q1.ipynb\" target=\"_parent\"><img src=\"https://colab.research.google.com/assets/colab-badge.svg\" alt=\"Open In Colab\"/></a>"
      ]
    },
    {
      "cell_type": "markdown",
      "metadata": {
        "id": "Blqa1hK79ZdD"
      },
      "source": [
        "#Install and import libraries"
      ]
    },
    {
      "cell_type": "code",
      "execution_count": null,
      "metadata": {
        "colab": {
          "base_uri": "https://localhost:8080/"
        },
        "id": "VYobnFUjmxdQ",
        "outputId": "f62f3fb6-e909-41d9-f13b-e8248a63b412"
      },
      "outputs": [
        {
          "output_type": "stream",
          "name": "stdout",
          "text": [
            "Requirement already satisfied: pydub in /usr/local/lib/python3.10/dist-packages (0.25.1)\n",
            "Requirement already satisfied: librosa in /usr/local/lib/python3.10/dist-packages (0.10.0.post2)\n",
            "Requirement already satisfied: audioread>=2.1.9 in /usr/local/lib/python3.10/dist-packages (from librosa) (3.0.0)\n",
            "Requirement already satisfied: numpy!=1.22.0,!=1.22.1,!=1.22.2,>=1.20.3 in /usr/local/lib/python3.10/dist-packages (from librosa) (1.22.4)\n",
            "Requirement already satisfied: scipy>=1.2.0 in /usr/local/lib/python3.10/dist-packages (from librosa) (1.10.1)\n",
            "Requirement already satisfied: scikit-learn>=0.20.0 in /usr/local/lib/python3.10/dist-packages (from librosa) (1.2.2)\n",
            "Requirement already satisfied: joblib>=0.14 in /usr/local/lib/python3.10/dist-packages (from librosa) (1.2.0)\n",
            "Requirement already satisfied: decorator>=4.3.0 in /usr/local/lib/python3.10/dist-packages (from librosa) (4.4.2)\n",
            "Requirement already satisfied: numba>=0.51.0 in /usr/local/lib/python3.10/dist-packages (from librosa) (0.56.4)\n",
            "Requirement already satisfied: soundfile>=0.12.1 in /usr/local/lib/python3.10/dist-packages (from librosa) (0.12.1)\n",
            "Requirement already satisfied: pooch<1.7,>=1.0 in /usr/local/lib/python3.10/dist-packages (from librosa) (1.6.0)\n",
            "Requirement already satisfied: soxr>=0.3.2 in /usr/local/lib/python3.10/dist-packages (from librosa) (0.3.5)\n",
            "Requirement already satisfied: typing-extensions>=4.1.1 in /usr/local/lib/python3.10/dist-packages (from librosa) (4.6.3)\n",
            "Requirement already satisfied: lazy-loader>=0.1 in /usr/local/lib/python3.10/dist-packages (from librosa) (0.2)\n",
            "Requirement already satisfied: msgpack>=1.0 in /usr/local/lib/python3.10/dist-packages (from librosa) (1.0.5)\n",
            "Requirement already satisfied: llvmlite<0.40,>=0.39.0dev0 in /usr/local/lib/python3.10/dist-packages (from numba>=0.51.0->librosa) (0.39.1)\n",
            "Requirement already satisfied: setuptools in /usr/local/lib/python3.10/dist-packages (from numba>=0.51.0->librosa) (67.7.2)\n",
            "Requirement already satisfied: appdirs>=1.3.0 in /usr/local/lib/python3.10/dist-packages (from pooch<1.7,>=1.0->librosa) (1.4.4)\n",
            "Requirement already satisfied: packaging>=20.0 in /usr/local/lib/python3.10/dist-packages (from pooch<1.7,>=1.0->librosa) (23.1)\n",
            "Requirement already satisfied: requests>=2.19.0 in /usr/local/lib/python3.10/dist-packages (from pooch<1.7,>=1.0->librosa) (2.27.1)\n",
            "Requirement already satisfied: threadpoolctl>=2.0.0 in /usr/local/lib/python3.10/dist-packages (from scikit-learn>=0.20.0->librosa) (3.1.0)\n",
            "Requirement already satisfied: cffi>=1.0 in /usr/local/lib/python3.10/dist-packages (from soundfile>=0.12.1->librosa) (1.15.1)\n",
            "Requirement already satisfied: pycparser in /usr/local/lib/python3.10/dist-packages (from cffi>=1.0->soundfile>=0.12.1->librosa) (2.21)\n",
            "Requirement already satisfied: urllib3<1.27,>=1.21.1 in /usr/local/lib/python3.10/dist-packages (from requests>=2.19.0->pooch<1.7,>=1.0->librosa) (1.26.16)\n",
            "Requirement already satisfied: certifi>=2017.4.17 in /usr/local/lib/python3.10/dist-packages (from requests>=2.19.0->pooch<1.7,>=1.0->librosa) (2023.5.7)\n",
            "Requirement already satisfied: charset-normalizer~=2.0.0 in /usr/local/lib/python3.10/dist-packages (from requests>=2.19.0->pooch<1.7,>=1.0->librosa) (2.0.12)\n",
            "Requirement already satisfied: idna<4,>=2.5 in /usr/local/lib/python3.10/dist-packages (from requests>=2.19.0->pooch<1.7,>=1.0->librosa) (3.4)\n",
            "Requirement already satisfied: transformers in /usr/local/lib/python3.10/dist-packages (4.30.2)\n",
            "Requirement already satisfied: filelock in /usr/local/lib/python3.10/dist-packages (from transformers) (3.12.2)\n",
            "Requirement already satisfied: huggingface-hub<1.0,>=0.14.1 in /usr/local/lib/python3.10/dist-packages (from transformers) (0.15.1)\n",
            "Requirement already satisfied: numpy>=1.17 in /usr/local/lib/python3.10/dist-packages (from transformers) (1.22.4)\n",
            "Requirement already satisfied: packaging>=20.0 in /usr/local/lib/python3.10/dist-packages (from transformers) (23.1)\n",
            "Requirement already satisfied: pyyaml>=5.1 in /usr/local/lib/python3.10/dist-packages (from transformers) (6.0)\n",
            "Requirement already satisfied: regex!=2019.12.17 in /usr/local/lib/python3.10/dist-packages (from transformers) (2022.10.31)\n",
            "Requirement already satisfied: requests in /usr/local/lib/python3.10/dist-packages (from transformers) (2.27.1)\n",
            "Requirement already satisfied: tokenizers!=0.11.3,<0.14,>=0.11.1 in /usr/local/lib/python3.10/dist-packages (from transformers) (0.13.3)\n",
            "Requirement already satisfied: safetensors>=0.3.1 in /usr/local/lib/python3.10/dist-packages (from transformers) (0.3.1)\n",
            "Requirement already satisfied: tqdm>=4.27 in /usr/local/lib/python3.10/dist-packages (from transformers) (4.65.0)\n",
            "Requirement already satisfied: fsspec in /usr/local/lib/python3.10/dist-packages (from huggingface-hub<1.0,>=0.14.1->transformers) (2023.6.0)\n",
            "Requirement already satisfied: typing-extensions>=3.7.4.3 in /usr/local/lib/python3.10/dist-packages (from huggingface-hub<1.0,>=0.14.1->transformers) (4.6.3)\n",
            "Requirement already satisfied: urllib3<1.27,>=1.21.1 in /usr/local/lib/python3.10/dist-packages (from requests->transformers) (1.26.16)\n",
            "Requirement already satisfied: certifi>=2017.4.17 in /usr/local/lib/python3.10/dist-packages (from requests->transformers) (2023.5.7)\n",
            "Requirement already satisfied: charset-normalizer~=2.0.0 in /usr/local/lib/python3.10/dist-packages (from requests->transformers) (2.0.12)\n",
            "Requirement already satisfied: idna<4,>=2.5 in /usr/local/lib/python3.10/dist-packages (from requests->transformers) (3.4)\n",
            "Requirement already satisfied: pycm==3. in /usr/local/lib/python3.10/dist-packages (3.0)\n",
            "Requirement already satisfied: art>=1.8 in /usr/local/lib/python3.10/dist-packages (from pycm==3.) (6.0)\n",
            "Requirement already satisfied: numpy>=1.9.0 in /usr/local/lib/python3.10/dist-packages (from pycm==3.) (1.22.4)\n",
            "Requirement already satisfied: SpeechRecognition in /usr/local/lib/python3.10/dist-packages (3.10.0)\n",
            "Requirement already satisfied: requests>=2.26.0 in /usr/local/lib/python3.10/dist-packages (from SpeechRecognition) (2.27.1)\n",
            "Requirement already satisfied: urllib3<1.27,>=1.21.1 in /usr/local/lib/python3.10/dist-packages (from requests>=2.26.0->SpeechRecognition) (1.26.16)\n",
            "Requirement already satisfied: certifi>=2017.4.17 in /usr/local/lib/python3.10/dist-packages (from requests>=2.26.0->SpeechRecognition) (2023.5.7)\n",
            "Requirement already satisfied: charset-normalizer~=2.0.0 in /usr/local/lib/python3.10/dist-packages (from requests>=2.26.0->SpeechRecognition) (2.0.12)\n",
            "Requirement already satisfied: idna<4,>=2.5 in /usr/local/lib/python3.10/dist-packages (from requests>=2.26.0->SpeechRecognition) (3.4)\n",
            "Requirement already satisfied: gradio in /usr/local/lib/python3.10/dist-packages (3.35.2)\n",
            "Requirement already satisfied: aiofiles in /usr/local/lib/python3.10/dist-packages (from gradio) (23.1.0)\n",
            "Requirement already satisfied: aiohttp in /usr/local/lib/python3.10/dist-packages (from gradio) (3.8.4)\n",
            "Requirement already satisfied: altair>=4.2.0 in /usr/local/lib/python3.10/dist-packages (from gradio) (4.2.2)\n",
            "Requirement already satisfied: fastapi in /usr/local/lib/python3.10/dist-packages (from gradio) (0.98.0)\n",
            "Requirement already satisfied: ffmpy in /usr/local/lib/python3.10/dist-packages (from gradio) (0.3.0)\n",
            "Requirement already satisfied: gradio-client>=0.2.7 in /usr/local/lib/python3.10/dist-packages (from gradio) (0.2.7)\n",
            "Requirement already satisfied: httpx in /usr/local/lib/python3.10/dist-packages (from gradio) (0.24.1)\n",
            "Requirement already satisfied: huggingface-hub>=0.14.0 in /usr/local/lib/python3.10/dist-packages (from gradio) (0.15.1)\n",
            "Requirement already satisfied: jinja2 in /usr/local/lib/python3.10/dist-packages (from gradio) (3.1.2)\n",
            "Requirement already satisfied: markdown-it-py[linkify]>=2.0.0 in /usr/local/lib/python3.10/dist-packages (from gradio) (2.2.0)\n",
            "Requirement already satisfied: markupsafe in /usr/local/lib/python3.10/dist-packages (from gradio) (2.1.3)\n",
            "Requirement already satisfied: matplotlib in /usr/local/lib/python3.10/dist-packages (from gradio) (3.7.1)\n",
            "Requirement already satisfied: mdit-py-plugins<=0.3.3 in /usr/local/lib/python3.10/dist-packages (from gradio) (0.3.3)\n",
            "Requirement already satisfied: numpy in /usr/local/lib/python3.10/dist-packages (from gradio) (1.22.4)\n",
            "Requirement already satisfied: orjson in /usr/local/lib/python3.10/dist-packages (from gradio) (3.9.1)\n",
            "Requirement already satisfied: pandas in /usr/local/lib/python3.10/dist-packages (from gradio) (1.5.3)\n",
            "Requirement already satisfied: pillow in /usr/local/lib/python3.10/dist-packages (from gradio) (8.4.0)\n",
            "Requirement already satisfied: pydantic in /usr/local/lib/python3.10/dist-packages (from gradio) (1.10.9)\n",
            "Requirement already satisfied: pydub in /usr/local/lib/python3.10/dist-packages (from gradio) (0.25.1)\n",
            "Requirement already satisfied: pygments>=2.12.0 in /usr/local/lib/python3.10/dist-packages (from gradio) (2.14.0)\n",
            "Requirement already satisfied: python-multipart in /usr/local/lib/python3.10/dist-packages (from gradio) (0.0.6)\n",
            "Requirement already satisfied: pyyaml in /usr/local/lib/python3.10/dist-packages (from gradio) (6.0)\n",
            "Requirement already satisfied: requests in /usr/local/lib/python3.10/dist-packages (from gradio) (2.27.1)\n",
            "Requirement already satisfied: semantic-version in /usr/local/lib/python3.10/dist-packages (from gradio) (2.10.0)\n",
            "Requirement already satisfied: uvicorn>=0.14.0 in /usr/local/lib/python3.10/dist-packages (from gradio) (0.22.0)\n",
            "Requirement already satisfied: websockets>=10.0 in /usr/local/lib/python3.10/dist-packages (from gradio) (11.0.3)\n",
            "Requirement already satisfied: entrypoints in /usr/local/lib/python3.10/dist-packages (from altair>=4.2.0->gradio) (0.4)\n",
            "Requirement already satisfied: jsonschema>=3.0 in /usr/local/lib/python3.10/dist-packages (from altair>=4.2.0->gradio) (4.3.3)\n",
            "Requirement already satisfied: toolz in /usr/local/lib/python3.10/dist-packages (from altair>=4.2.0->gradio) (0.12.0)\n",
            "Requirement already satisfied: fsspec in /usr/local/lib/python3.10/dist-packages (from gradio-client>=0.2.7->gradio) (2023.6.0)\n",
            "Requirement already satisfied: packaging in /usr/local/lib/python3.10/dist-packages (from gradio-client>=0.2.7->gradio) (23.1)\n",
            "Requirement already satisfied: typing-extensions in /usr/local/lib/python3.10/dist-packages (from gradio-client>=0.2.7->gradio) (4.6.3)\n",
            "Requirement already satisfied: filelock in /usr/local/lib/python3.10/dist-packages (from huggingface-hub>=0.14.0->gradio) (3.12.2)\n",
            "Requirement already satisfied: tqdm>=4.42.1 in /usr/local/lib/python3.10/dist-packages (from huggingface-hub>=0.14.0->gradio) (4.65.0)\n",
            "Requirement already satisfied: mdurl~=0.1 in /usr/local/lib/python3.10/dist-packages (from markdown-it-py[linkify]>=2.0.0->gradio) (0.1.2)\n",
            "Requirement already satisfied: linkify-it-py<3,>=1 in /usr/local/lib/python3.10/dist-packages (from markdown-it-py[linkify]>=2.0.0->gradio) (2.0.2)\n",
            "Requirement already satisfied: python-dateutil>=2.8.1 in /usr/local/lib/python3.10/dist-packages (from pandas->gradio) (2.8.2)\n",
            "Requirement already satisfied: pytz>=2020.1 in /usr/local/lib/python3.10/dist-packages (from pandas->gradio) (2022.7.1)\n",
            "Requirement already satisfied: click>=7.0 in /usr/local/lib/python3.10/dist-packages (from uvicorn>=0.14.0->gradio) (8.1.3)\n",
            "Requirement already satisfied: h11>=0.8 in /usr/local/lib/python3.10/dist-packages (from uvicorn>=0.14.0->gradio) (0.14.0)\n",
            "Requirement already satisfied: attrs>=17.3.0 in /usr/local/lib/python3.10/dist-packages (from aiohttp->gradio) (23.1.0)\n",
            "Requirement already satisfied: charset-normalizer<4.0,>=2.0 in /usr/local/lib/python3.10/dist-packages (from aiohttp->gradio) (2.0.12)\n",
            "Requirement already satisfied: multidict<7.0,>=4.5 in /usr/local/lib/python3.10/dist-packages (from aiohttp->gradio) (6.0.4)\n",
            "Requirement already satisfied: async-timeout<5.0,>=4.0.0a3 in /usr/local/lib/python3.10/dist-packages (from aiohttp->gradio) (4.0.2)\n",
            "Requirement already satisfied: yarl<2.0,>=1.0 in /usr/local/lib/python3.10/dist-packages (from aiohttp->gradio) (1.9.2)\n",
            "Requirement already satisfied: frozenlist>=1.1.1 in /usr/local/lib/python3.10/dist-packages (from aiohttp->gradio) (1.3.3)\n",
            "Requirement already satisfied: aiosignal>=1.1.2 in /usr/local/lib/python3.10/dist-packages (from aiohttp->gradio) (1.3.1)\n",
            "Requirement already satisfied: starlette<0.28.0,>=0.27.0 in /usr/local/lib/python3.10/dist-packages (from fastapi->gradio) (0.27.0)\n",
            "Requirement already satisfied: certifi in /usr/local/lib/python3.10/dist-packages (from httpx->gradio) (2023.5.7)\n",
            "Requirement already satisfied: httpcore<0.18.0,>=0.15.0 in /usr/local/lib/python3.10/dist-packages (from httpx->gradio) (0.17.2)\n",
            "Requirement already satisfied: idna in /usr/local/lib/python3.10/dist-packages (from httpx->gradio) (3.4)\n",
            "Requirement already satisfied: sniffio in /usr/local/lib/python3.10/dist-packages (from httpx->gradio) (1.3.0)\n",
            "Requirement already satisfied: contourpy>=1.0.1 in /usr/local/lib/python3.10/dist-packages (from matplotlib->gradio) (1.1.0)\n",
            "Requirement already satisfied: cycler>=0.10 in /usr/local/lib/python3.10/dist-packages (from matplotlib->gradio) (0.11.0)\n",
            "Requirement already satisfied: fonttools>=4.22.0 in /usr/local/lib/python3.10/dist-packages (from matplotlib->gradio) (4.40.0)\n",
            "Requirement already satisfied: kiwisolver>=1.0.1 in /usr/local/lib/python3.10/dist-packages (from matplotlib->gradio) (1.4.4)\n",
            "Requirement already satisfied: pyparsing>=2.3.1 in /usr/local/lib/python3.10/dist-packages (from matplotlib->gradio) (3.1.0)\n",
            "Requirement already satisfied: urllib3<1.27,>=1.21.1 in /usr/local/lib/python3.10/dist-packages (from requests->gradio) (1.26.16)\n",
            "Requirement already satisfied: anyio<5.0,>=3.0 in /usr/local/lib/python3.10/dist-packages (from httpcore<0.18.0,>=0.15.0->httpx->gradio) (3.7.0)\n",
            "Requirement already satisfied: pyrsistent!=0.17.0,!=0.17.1,!=0.17.2,>=0.14.0 in /usr/local/lib/python3.10/dist-packages (from jsonschema>=3.0->altair>=4.2.0->gradio) (0.19.3)\n",
            "Requirement already satisfied: uc-micro-py in /usr/local/lib/python3.10/dist-packages (from linkify-it-py<3,>=1->markdown-it-py[linkify]>=2.0.0->gradio) (1.0.2)\n",
            "Requirement already satisfied: six>=1.5 in /usr/local/lib/python3.10/dist-packages (from python-dateutil>=2.8.1->pandas->gradio) (1.16.0)\n",
            "Requirement already satisfied: exceptiongroup in /usr/local/lib/python3.10/dist-packages (from anyio<5.0,>=3.0->httpcore<0.18.0,>=0.15.0->httpx->gradio) (1.1.1)\n",
            "Requirement already satisfied: python_speech_features in /usr/local/lib/python3.10/dist-packages (0.6)\n"
          ]
        }
      ],
      "source": [
        "!pip install pydub\n",
        "!pip install librosa\n",
        "!pip install  transformers\n",
        "!pip install --quiet datasets\n",
        "!pip install pycm==3.\n",
        "!pip install SpeechRecognition\n",
        "!pip install gradio\n",
        "!pip install python_speech_features\n",
        "from transformers import Wav2Vec2FeatureExtractor, WavLMForXVector\n",
        "from pydub import AudioSegment\n",
        "from python_speech_features import mfcc\n",
        "from sklearn.neural_network import MLPClassifier\n",
        "from sklearn.model_selection import train_test_split\n",
        "from sklearn.preprocessing import StandardScaler\n",
        "from sklearn.metrics import accuracy_score\n",
        "import torch\n",
        "import librosa\n",
        "import IPython.display as ipd\n",
        "import numpy as np\n",
        "import os\n",
        "import gradio as gr\n",
        "import speech_recognition as sr\n",
        "import warnings\n",
        "import soundfile as sd\n",
        "\n",
        "\n",
        "\n"
      ]
    },
    {
      "cell_type": "code",
      "execution_count": null,
      "metadata": {
        "colab": {
          "base_uri": "https://localhost:8080/"
        },
        "id": "4Q972L1Em2FP",
        "outputId": "73af840d-6f4e-4e17-c1a6-67562226c422"
      },
      "outputs": [
        {
          "output_type": "stream",
          "name": "stdout",
          "text": [
            "Drive already mounted at /content/drive; to attempt to forcibly remount, call drive.mount(\"/content/drive\", force_remount=True).\n"
          ]
        }
      ],
      "source": [
        "from google.colab import drive\n",
        "drive.mount('/content/drive')"
      ]
    },
    {
      "cell_type": "markdown",
      "metadata": {
        "id": "4evn2pDf9liR"
      },
      "source": [
        "#Preprocess input data(down)\n",
        "\n"
      ]
    },
    {
      "cell_type": "code",
      "execution_count": null,
      "metadata": {
        "colab": {
          "base_uri": "https://localhost:8080/"
        },
        "id": "UY2M6758m3nj",
        "outputId": "fd23d454-2854-4451-d728-1f22242897b1"
      },
      "outputs": [
        {
          "output_type": "stream",
          "name": "stderr",
          "text": [
            "<ipython-input-31-bbe4de98065c>:8: DeprecationWarning: `np.float` is a deprecated alias for the builtin `float`. To silence this warning, use `float` by itself. Doing this will not modify any behavior and is safe. If you specifically wanted the numpy scalar type, use `np.float64` here.\n",
            "Deprecated in NumPy 1.20; for more details and guidance: https://numpy.org/devdocs/release/1.20.0-notes.html#deprecations\n",
            "  speech_array = speech_array.squeeze().astype(np.float)\n"
          ]
        }
      ],
      "source": [
        "input_dir = \"/content/drive/MyDrive/voices/down/\"\n",
        "output_dir = \"/content/drive/MyDrive/voices/output16000\"\n",
        "target_duration = 4000  # target duration in milliseconds\n",
        "\n",
        "for fname in next(os.walk(input_dir))[2]:\n",
        "    spk_id, _ = fname.split(\"_\")\n",
        "    speech_array, sample_rate = librosa.load((input_dir + fname),sr=16000) #load data\n",
        "    speech_array = speech_array.squeeze().astype(np.float)\n",
        "\n",
        "# Get a list of all audio files in the input directory\n",
        "audio_files = [f for f in os.listdir(input_dir) if f.endswith(\".wav\")]\n",
        "\n",
        "# Process each audio file and save it to the output directory\n",
        "for file in audio_files:\n",
        "    audio = AudioSegment.from_wav(os.path.join(input_dir, file))\n",
        "    length = len(audio)\n",
        "\n",
        "    if length < target_duration:\n",
        "        # Zero-pad the audio file\n",
        "        padding = AudioSegment.silent(duration=target_duration - length)\n",
        "        audio = audio + padding\n",
        "    elif length > target_duration:\n",
        "        # Trim the audio file\n",
        "        audio = audio[:target_duration]\n",
        "\n",
        "    # Save the output file\n",
        "    output_file = os.path.join(output_dir, file)\n",
        "    audio.export(output_file, format=\"wav\")"
      ]
    },
    {
      "cell_type": "markdown",
      "metadata": {
        "id": "owAt7J4F-Gee"
      },
      "source": [
        "#Preprocess input data(up)"
      ]
    },
    {
      "cell_type": "code",
      "execution_count": null,
      "metadata": {
        "colab": {
          "base_uri": "https://localhost:8080/"
        },
        "id": "U3vpCcC7m5Iz",
        "outputId": "c1bce43c-e3d8-47cd-bbe0-238f332a2242"
      },
      "outputs": [
        {
          "output_type": "stream",
          "name": "stderr",
          "text": [
            "<ipython-input-32-a3e50df5c596>:7: DeprecationWarning: `np.float` is a deprecated alias for the builtin `float`. To silence this warning, use `float` by itself. Doing this will not modify any behavior and is safe. If you specifically wanted the numpy scalar type, use `np.float64` here.\n",
            "Deprecated in NumPy 1.20; for more details and guidance: https://numpy.org/devdocs/release/1.20.0-notes.html#deprecations\n",
            "  speech_array = speech_array.squeeze().astype(np.float)\n"
          ]
        }
      ],
      "source": [
        "input_dir = \"/content/drive/MyDrive/voices/up/\"\n",
        "output_dir = \"/content/drive/MyDrive/voices/output16000\"\n",
        "target_duration = 4000  # target duration in milliseconds\n",
        "for fname in next(os.walk(input_dir))[2]:\n",
        "    spk_id, _ = fname.split(\"_\")\n",
        "    speech_array, sample_rate = librosa.load((input_dir + fname),sr=16000) #load data\n",
        "    speech_array = speech_array.squeeze().astype(np.float)\n",
        "\n",
        "# Get a list of all audio files in the input directory\n",
        "audio_files = [f for f in os.listdir(input_dir) if f.endswith(\".wav\")]\n",
        "\n",
        "# Process each audio file and save it to the output directory\n",
        "for file in audio_files:\n",
        "    audio = AudioSegment.from_wav(os.path.join(input_dir, file))\n",
        "    length = len(audio)\n",
        "\n",
        "    if length < target_duration:\n",
        "        # Zero-pad the audio file\n",
        "        padding = AudioSegment.silent(duration=target_duration - length)\n",
        "        audio = audio + padding\n",
        "    elif length > target_duration:\n",
        "        # Trim the audio file\n",
        "        audio = audio[:target_duration]\n",
        "\n",
        "    # Save the output file\n",
        "    output_file = os.path.join(output_dir, file)\n",
        "    audio.export(output_file, format=\"wav\")"
      ]
    },
    {
      "cell_type": "markdown",
      "metadata": {
        "id": "yfrc_oyz-JVJ"
      },
      "source": [
        "#Preprocess input data(left)"
      ]
    },
    {
      "cell_type": "code",
      "execution_count": null,
      "metadata": {
        "colab": {
          "base_uri": "https://localhost:8080/"
        },
        "id": "1iZ9eVh5m6q_",
        "outputId": "6991d1ef-18d8-450d-af41-f56bc65e990c"
      },
      "outputs": [
        {
          "output_type": "stream",
          "name": "stderr",
          "text": [
            "<ipython-input-33-12f6e3d862a0>:7: DeprecationWarning: `np.float` is a deprecated alias for the builtin `float`. To silence this warning, use `float` by itself. Doing this will not modify any behavior and is safe. If you specifically wanted the numpy scalar type, use `np.float64` here.\n",
            "Deprecated in NumPy 1.20; for more details and guidance: https://numpy.org/devdocs/release/1.20.0-notes.html#deprecations\n",
            "  speech_array = speech_array.squeeze().astype(np.float)\n"
          ]
        }
      ],
      "source": [
        "input_dir = \"/content/drive/MyDrive/voices/left/\"\n",
        "output_dir = \"/content/drive/MyDrive/voices/output16000\"\n",
        "target_duration = 4000  # target duration in milliseconds\n",
        "for fname in next(os.walk(input_dir))[2]:\n",
        "    spk_id, _ = fname.split(\"_\")\n",
        "    speech_array, sample_rate = librosa.load((input_dir + fname),sr=16000) #load data\n",
        "    speech_array = speech_array.squeeze().astype(np.float)\n",
        "\n",
        "# Get a list of all audio files in the input directory\n",
        "audio_files = [f for f in os.listdir(input_dir) if f.endswith(\".wav\")]\n",
        "\n",
        "# Process each audio file and save it to the output directory\n",
        "for file in audio_files:\n",
        "    audio = AudioSegment.from_wav(os.path.join(input_dir, file))\n",
        "    length = len(audio)\n",
        "\n",
        "    if length < target_duration:\n",
        "        # Zero-pad the audio file\n",
        "        padding = AudioSegment.silent(duration=target_duration - length)\n",
        "        audio = audio + padding\n",
        "    elif length > target_duration:\n",
        "        # Trim the audio file\n",
        "        audio = audio[:target_duration]\n",
        "\n",
        "    # Save the output file\n",
        "    output_file = os.path.join(output_dir, file)\n",
        "    audio.export(output_file, format=\"wav\")"
      ]
    },
    {
      "cell_type": "markdown",
      "metadata": {
        "id": "LbjnmGWd-NpB"
      },
      "source": [
        "#Preprocess input data(right)"
      ]
    },
    {
      "cell_type": "code",
      "execution_count": null,
      "metadata": {
        "colab": {
          "base_uri": "https://localhost:8080/"
        },
        "id": "jyVizoJYm8U-",
        "outputId": "8f44236b-f133-4ba8-8928-d1966217ec95"
      },
      "outputs": [
        {
          "output_type": "stream",
          "name": "stderr",
          "text": [
            "<ipython-input-34-ca6595e8a414>:7: DeprecationWarning: `np.float` is a deprecated alias for the builtin `float`. To silence this warning, use `float` by itself. Doing this will not modify any behavior and is safe. If you specifically wanted the numpy scalar type, use `np.float64` here.\n",
            "Deprecated in NumPy 1.20; for more details and guidance: https://numpy.org/devdocs/release/1.20.0-notes.html#deprecations\n",
            "  speech_array = speech_array.squeeze().astype(np.float)\n"
          ]
        }
      ],
      "source": [
        "input_dir = \"/content/drive/MyDrive/voices/right/\"\n",
        "output_dir = \"/content/drive/MyDrive/voices/output16000\"\n",
        "target_duration = 4000  # target duration in milliseconds\n",
        "for fname in next(os.walk(input_dir))[2]:\n",
        "    spk_id, _ = fname.split(\"_\")\n",
        "    speech_array, sample_rate = librosa.load((input_dir + fname),sr=16000) #load data\n",
        "    speech_array = speech_array.squeeze().astype(np.float)\n",
        "\n",
        "# Get a list of all audio files in the input directory\n",
        "audio_files = [f for f in os.listdir(input_dir) if f.endswith(\".wav\")]\n",
        "\n",
        "# Process each audio file and save it to the output directory\n",
        "for file in audio_files:\n",
        "    audio = AudioSegment.from_wav(os.path.join(input_dir, file))\n",
        "    length = len(audio)\n",
        "\n",
        "    if length < target_duration:\n",
        "        # Zero-pad the audio file\n",
        "        padding = AudioSegment.silent(duration=target_duration - length)\n",
        "        audio = audio + padding\n",
        "    elif length > target_duration:\n",
        "        # Trim the audio file\n",
        "        audio = audio[:target_duration]\n",
        "\n",
        "    # Save the output file\n",
        "    output_file = os.path.join(output_dir, file)\n",
        "    audio.export(output_file, format=\"wav\")"
      ]
    },
    {
      "cell_type": "markdown",
      "metadata": {
        "id": "6Bl7AaAB_3jg"
      },
      "source": [
        "#Using MLP network and MFCC coefficients for voice command recognition"
      ]
    },
    {
      "cell_type": "code",
      "source": [
        "class VoiceCommandSystem:\n",
        "    def __init__(self, data_path, model_path):\n",
        "        self.data_path = data_path\n",
        "        self.model_path = model_path\n",
        "        self.mlp_model = None\n",
        "        self.scaler = StandardScaler()\n",
        "        self.player_position = [0, 0]\n",
        "\n",
        "    def move_up(self):\n",
        "        self.player_position[1] += 1\n",
        "        print(\"Moving the player up. Player position:\", self.player_position)\n",
        "\n",
        "    def move_down(self):\n",
        "        self.player_position[1] -= 1\n",
        "        print(\"Moving the player down. Player position:\", self.player_position)\n",
        "\n",
        "    def move_left(self):\n",
        "        self.player_position[0] -= 1\n",
        "        print(\"Moving the player left. Player position:\", self.player_position)\n",
        "\n",
        "    def move_right(self):\n",
        "        self.player_position[0] += 1\n",
        "        print(\"Moving the player right. Player position:\", self.player_position)\n",
        "\n",
        "    def extract_features(self, audio):\n",
        "        mfcc = librosa.feature.mfcc(y=audio, sr=16000, n_mfcc=26)\n",
        "        return mfcc.flatten()\n",
        "\n",
        "    def load_data(self):\n",
        "        voice_files = os.listdir(self.data_path)\n",
        "        X = []\n",
        "        y = []\n",
        "\n",
        "        for file in voice_files:\n",
        "            file_path = os.path.join(self.data_path, file)\n",
        "            audio, _ = librosa.load(file_path, sr=16000)\n",
        "            feature = self.extract_features(audio)\n",
        "            X.append(feature)\n",
        "            y.append(file.split(\"_\")[0])\n",
        "\n",
        "        X_train, X_val, y_train, y_val = train_test_split(X, y, test_size=0.3, random_state=42)\n",
        "        X_train_scaled = self.scaler.fit_transform(X_train)\n",
        "        X_val_scaled = self.scaler.transform(X_val)\n",
        "        return X_train_scaled, X_val_scaled, y_train, y_val\n",
        "\n",
        "    def train_model(self):\n",
        "        X_train, X_val, y_train, y_val = self.load_data()\n",
        "        best_val_acc = 0\n",
        "        self.mlp_model = MLPClassifier(hidden_layer_sizes=(256, 128), alpha=0.0001, random_state=42)\n",
        "        self.mlp_model.fit(X_train, y_train)\n",
        "\n",
        "        # Calculate accuracy on training set\n",
        "        train_pred = self.mlp_model.predict(X_train)\n",
        "        train_acc = accuracy_score(y_train, train_pred)\n",
        "        print(f\"Training Accuracy: {train_acc}\")\n",
        "\n",
        "        # Calculate accuracy on validation set\n",
        "        val_pred = self.mlp_model.predict(X_val)\n",
        "        val_acc = accuracy_score(y_val, val_pred)\n",
        "        print(f\" Validation Accuracy: {val_acc}\")\n",
        "\n",
        "        if val_acc > best_val_acc:\n",
        "             best_val_acc = val_acc\n",
        "             # Save the best model if desired\n",
        "\n",
        "        return best_val_acc\n",
        "\n",
        "    def recognize_command(self, file_path):\n",
        "        audio, _ = librosa.load(file_path, sr=16000)\n",
        "        feature = self.extract_features(audio)\n",
        "        feature_scaled = self.scaler.transform([feature])\n",
        "        predicted_label = self.mlp_model.predict(feature_scaled)[0]\n",
        "\n",
        "        if predicted_label == \"up\":\n",
        "            self.move_up()\n",
        "        elif predicted_label == \"down\":\n",
        "            self.move_down()\n",
        "        elif predicted_label == \"left\":\n",
        "            self.move_left()\n",
        "        elif predicted_label == \"right\":\n",
        "            self.move_right()\n",
        "\n",
        "        player_position_str = f\"Player position: {self.player_position}\"\n",
        "        return predicted_label,player_position_str\n",
        "\n",
        "if __name__ == '__main__':\n",
        "    data_path = \"/content/drive/MyDrive/voices/output16000\"\n",
        "    model_path = \"/content/drive/MyDrive/model\"\n",
        "    player_position = [0, 0]\n",
        "\n",
        "    voice_command_system = VoiceCommandSystem(data_path, model_path)\n",
        "    best_val_acc = voice_command_system.train_model()\n",
        "\n",
        "    audio_input = gr.inputs.Audio(label=\"Speak Command\", type=\"filepath\")\n",
        "    label_output = gr.outputs.Textbox(label=\"Recognized Command\")\n",
        "\n",
        "    iface = gr.Interface(fn=voice_command_system.recognize_command, inputs=audio_input, outputs=label_output)\n",
        "    iface.launch()"
      ],
      "metadata": {
        "colab": {
          "base_uri": "https://localhost:8080/",
          "height": 775
        },
        "id": "g9zHYWPhaEyc",
        "outputId": "43ab45af-18be-4061-eee8-18b22672ed05"
      },
      "execution_count": null,
      "outputs": [
        {
          "output_type": "stream",
          "name": "stdout",
          "text": [
            "Training Accuracy: 1.0\n",
            " Validation Accuracy: 0.9222222222222223\n"
          ]
        },
        {
          "output_type": "stream",
          "name": "stderr",
          "text": [
            "/usr/local/lib/python3.10/dist-packages/gradio/inputs.py:321: UserWarning: Usage of gradio.inputs is deprecated, and will not be supported in the future, please import your components from gradio.components\n",
            "  warnings.warn(\n",
            "/usr/local/lib/python3.10/dist-packages/gradio/inputs.py:324: UserWarning: `optional` parameter is deprecated, and it has no effect\n",
            "  super().__init__(source=source, type=type, label=label, optional=optional)\n",
            "/usr/local/lib/python3.10/dist-packages/gradio/outputs.py:22: UserWarning: Usage of gradio.outputs is deprecated, and will not be supported in the future, please import your components from gradio.components\n",
            "  warnings.warn(\n"
          ]
        },
        {
          "output_type": "stream",
          "name": "stdout",
          "text": [
            "Colab notebook detected. To show errors in colab notebook, set debug=True in launch()\n",
            "Note: opening Chrome Inspector may crash demo inside Colab notebooks.\n",
            "\n",
            "To create a public link, set `share=True` in `launch()`.\n"
          ]
        },
        {
          "output_type": "display_data",
          "data": {
            "text/plain": [
              "<IPython.core.display.Javascript object>"
            ],
            "application/javascript": [
              "(async (port, path, width, height, cache, element) => {\n",
              "                        if (!google.colab.kernel.accessAllowed && !cache) {\n",
              "                            return;\n",
              "                        }\n",
              "                        element.appendChild(document.createTextNode(''));\n",
              "                        const url = await google.colab.kernel.proxyPort(port, {cache});\n",
              "\n",
              "                        const external_link = document.createElement('div');\n",
              "                        external_link.innerHTML = `\n",
              "                            <div style=\"font-family: monospace; margin-bottom: 0.5rem\">\n",
              "                                Running on <a href=${new URL(path, url).toString()} target=\"_blank\">\n",
              "                                    https://localhost:${port}${path}\n",
              "                                </a>\n",
              "                            </div>\n",
              "                        `;\n",
              "                        element.appendChild(external_link);\n",
              "\n",
              "                        const iframe = document.createElement('iframe');\n",
              "                        iframe.src = new URL(path, url).toString();\n",
              "                        iframe.height = height;\n",
              "                        iframe.allow = \"autoplay; camera; microphone; clipboard-read; clipboard-write;\"\n",
              "                        iframe.width = width;\n",
              "                        iframe.style.border = 0;\n",
              "                        element.appendChild(iframe);\n",
              "                    })(7862, \"/\", \"100%\", 500, false, window.element)"
            ]
          },
          "metadata": {}
        }
      ]
    }
  ],
  "metadata": {
    "accelerator": "GPU",
    "colab": {
      "provenance": [],
      "include_colab_link": true
    },
    "kernelspec": {
      "display_name": "Python 3",
      "name": "python3"
    },
    "language_info": {
      "name": "python"
    }
  },
  "nbformat": 4,
  "nbformat_minor": 0
}